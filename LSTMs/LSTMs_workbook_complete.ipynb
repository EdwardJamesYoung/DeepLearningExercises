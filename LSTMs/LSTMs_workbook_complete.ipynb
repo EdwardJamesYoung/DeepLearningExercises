{
 "cells": [
  {
   "cell_type": "markdown",
   "metadata": {},
   "source": [
    "# Sequential processing with LSTM RNNs\n",
    "\n",
    "In this notebook we will be implementing the **LSTM (long short-term memory)** architecture, a type of recurrent neural network. We will then be using this architecture to perform a sequential processing task. This task will be **sequential MNIST (sMNIST)**. sMNIST involves feeding in an MNIST image to a network over time, and then asking the network on the last timestep what label the image had. We will be feeding in the image line by line. "
   ]
  },
  {
   "cell_type": "code",
   "execution_count": 1,
   "metadata": {},
   "outputs": [],
   "source": [
    "# First import all the packages we'll need\n",
    "import torch\n",
    "import torch.nn as nn\n",
    "import torch.nn.functional as F\n",
    "import torch.optim as optim\n",
    "import torchvision\n",
    "import torchvision.transforms as transforms\n",
    "\n",
    "import numpy as np\n",
    "import scipy\n",
    "import matplotlib.pyplot as plt\n",
    "import tqdm"
   ]
  },
  {
   "cell_type": "code",
   "execution_count": 2,
   "metadata": {},
   "outputs": [],
   "source": [
    "# Download the MNIST dataset and create the dataloaders for it\n",
    "# Perform standard data augmentation, but then also re-shape the tensors to get rid of the input channel dimension.\n",
    "\n",
    "transform = transforms.Compose([ \n",
    "    transforms.RandomAffine(degrees=10, translate = (0.05,0.05), scale = (0.95,1.05)),\n",
    "    transforms.ToTensor(),\n",
    "    transforms.Lambda( lambda x: x.squeeze())\n",
    "])\n",
    "\n",
    "training_data = torchvision.datasets.MNIST(train=True, download = True, root='./data', transform=transform)\n",
    "testing_data = torchvision.datasets.MNIST(train=False, download = True, root='./data', transform=transform)\n",
    "\n",
    "train_dataloader = torch.utils.data.DataLoader(training_data, shuffle=True, batch_size=32)\n",
    "test_dataloader = torch.utils.data.DataLoader(testing_data, shuffle=False, batch_size=32)"
   ]
  },
  {
   "cell_type": "code",
   "execution_count": 3,
   "metadata": {},
   "outputs": [
    {
     "data": {
      "text/plain": [
       "torch.Size([32, 28, 28])"
      ]
     },
     "execution_count": 3,
     "metadata": {},
     "output_type": "execute_result"
    }
   ],
   "source": [
    "# View the shape of a data point\n",
    "next(iter(train_dataloader))[0].shape"
   ]
  },
  {
   "cell_type": "markdown",
   "metadata": {},
   "source": [
    "## Basics of the LSTM architecture\n",
    "We will be implementing our own version of the LSTM cell. The LSTM cell will take in a $d$-dimensional input and output a $n$-dimensional output. We will introduce the following notation:\n",
    "1. **The cell input** at time $t$, $x_t \\in \\mathbb{R}^d$ \n",
    "2. **The internal state of the cell** at time $t$, $c_t \\in \\mathbb{R}^n$\n",
    "3. **The output of the cell** at time $t$, $v_t \\in \\mathbb{R}^n$\n",
    "\n",
    "At each time step, the internal state is updated and used to determine the output of the cell. This is done using three gates:\n",
    "1. **Forget gate**: the forget gate $f_t$ determines how to downweight the information currently contained in the internal state\n",
    "2. **Output gate**: the output gate $o_t$ determines how to weight (a transform of) the internal state to generate the output \n",
    "3. **Input gate**: the input gate $i_t$ determines how to weight the input to the cell before using it to update the internal state\n",
    "\n",
    "All the gates are vectors of length $n$ with values between $0$ and $1$. These gates act as *dynamic weights*.\n",
    "\n",
    "## Gates\n",
    "To get the value of each gate, we go through the following steps:\n",
    "1. The gate takes in the input at the current time step $x_t$ and the output of the cell at the previous time step $v_{t-1}$. \n",
    "2. These are then transformed by a linear transform, $W x_t + M v_{t-1} + b$ where $W \\in \\mathbb{R}^{n \\times d}$ and $M \\in \\mathbb{R}^{n \\times n}$ are the weight matrices of the gate and $b \\in \\mathbb{R}^n$ is the bias of the gate\n",
    "3. These are then passed through a *sigmoid* activation function, $\\sigma(x) = 1/(1 + e^{-x})$.\n",
    "\n",
    "Using sub-scripts to denote which gate we're talking about, we arrive at the following equations for the forget gate $f_t$, output gate $o_t$ and input gate $i_t$ at time $t$, \n",
    "$$ f_t = \\sigma( W_f x_t + M_f v_{t-1} + b_f ) $$\n",
    "$$ o_t = \\sigma( W_o x_t + M_o v_{t-1} + b_o ) $$\n",
    "$$ i_t = \\sigma( W_i x_t + M_i v_{t-1} + b_i ) $$\n",
    "\n",
    "## Candidate internal state\n",
    "We need one final ingredient, the candidate internal state, $\\tilde{c}_t \\in \\mathbb{R}^n$. These are the proposed new values for the cell's internal state. We obtain these values in the same way as we obtain the gate values, by performing a linear combination of the input and the previous output, and then passing through a non-linearity $F$. Usually we take $F = \\tanh$. This gives:\n",
    "$$ \\tilde{c}_t = F( W_c x_t + M_c v_{t-1} + b_c ) $$\n",
    "\n",
    "## Putting it together\n",
    "We now have the gates $f_t$, $o_t$, and $i_t$. How are these gates used to update the cell's internal state and generate the cell's output? \n",
    "### Updating the internal state\n",
    "To update the internal state, we go through the following steps:\n",
    "1. Down-weight the previous internal state using the forget gate, $f_t \\odot c_{t-1}$\n",
    "2. Down-weight the candidate internal state via the input gate, $i_t \\odot \\tilde{c}_t$\n",
    "3. Add these together, $c_t = f_t \\odot c_{t-1} + i_t \\odot \\tilde{c}_t$\n",
    "\n",
    "### Generating the output\n",
    "To generate the output at the current time step $v_t$, we go through the following steps:\n",
    "1. Transform the new internal state using a $\\tanh$ non-linearity, $\\tanh(c_t)$ \n",
    "2. Down-weight using the output gate $v_t = o_t \\odot \\tanh(c_t)$"
   ]
  },
  {
   "cell_type": "code",
   "execution_count": 9,
   "metadata": {},
   "outputs": [],
   "source": [
    "# Define the my_LSTM class which inherits from nn.Module. This will be our implemetaion of a single LSTM cell.\n",
    "class my_LSTM(nn.Module):\n",
    "    # Define the __init__ method. This will take in the input dimension d and output dimension n\n",
    "    def __init__(self, d, n):\n",
    "        # Call the super method and store relevant properties.\n",
    "        super().__init__()\n",
    "        self.d = d\n",
    "        self.n = n\n",
    "\n",
    "        # Define a ModuleDict object to store our layers\n",
    "        self.layers = nn.ModuleDict({\n",
    "            # Linear transform for the forget gate\n",
    "            \"forget\": nn.Linear(n+d, n),\n",
    "            # Linear transform for the input gate\n",
    "            \"input\": nn.Linear(n+d, n),\n",
    "            # Linear transform for the output gate\n",
    "            \"output\": nn.Linear(n+d, n),\n",
    "            # Linear transform for the candidate internal state\n",
    "            \"candidate\": nn.Linear(n+d, n)\n",
    "        })\n",
    "\n",
    "    # Define the forward method of the LSTM cell. \n",
    "    # This will take in:\n",
    "        # (1) the internal state from the previous time step c\n",
    "        # (2) the input to the cell at the current time step x\n",
    "        # (3) the previous output of the cell v\n",
    "    # The method will output: \n",
    "        # (1) the internal state at the current time step\n",
    "        # (2) the output of the cell at the current time step. \n",
    "    def forward(self, c, x, v):\n",
    "        # Concatenate the previous output of the cell and the input at the current time step \n",
    "        vx = torch.cat([v, x], dim=1)\n",
    "\n",
    "        # Generate the candidate internal state\n",
    "        c_tilde = F.tanh(self.layers[\"candidate\"](vx))\n",
    "\n",
    "        # Generate the forget, input, and output gates\n",
    "        f = F.sigmoid(self.layers[\"forget\"](vx))\n",
    "        i = F.sigmoid(self.layers[\"input\"](vx))\n",
    "        o = F.sigmoid(self.layers[\"output\"](vx))\n",
    "\n",
    "        # Generate the new internal state\n",
    "        c = f*c + i*c_tilde\n",
    "\n",
    "        # Generate the output\n",
    "        v = o*F.tanh(c)\n",
    "\n",
    "        # Return the internal state and output\n",
    "        return c, v\n"
   ]
  },
  {
   "cell_type": "markdown",
   "metadata": {},
   "source": [
    "## Network architecture\n",
    "We now have define an LSTM cell. How can we build a network around this to perform a task? We actually don't need to do much to augment the LSTM cell. We will just add a linear readout layer. This layer will project from the LSTM output dimension (of size n) to the 10 logits for each class (there are 10 logits because we are doing MNIST). We will also define a forward method that can take in an image, unroll it into a time-series, and then pass it through one line at a time to the LSTM cell. "
   ]
  },
  {
   "cell_type": "code",
   "execution_count": 10,
   "metadata": {},
   "outputs": [],
   "source": [
    "# Define our recurrent neural network class (which inherits from nn.Module)\n",
    "class my_RNN(nn.Module):\n",
    "    # Define the __init__ method. This will take in the input dimension of the problem d\n",
    "    def __init__(self, d, n): \n",
    "        # Call the super method and store relevant variables. \n",
    "        super().__init__()\n",
    "        self.d = d\n",
    "        self.n = n\n",
    "\n",
    "        # Define a ModuleDict object to store our layers\n",
    "        self.layers = nn.ModuleDict({\n",
    "            # The LSTM layer\n",
    "            \"LSTM cell\": my_LSTM(d, n),\n",
    "            # The output layer. This maps from the hidden state of the LSTM to the logits for each class.\n",
    "            \"output\": nn.Linear(n, 10)\n",
    "        })\n",
    "\n",
    "    # Define the forward method. This will take in a batch of images to be processed and output a the logits for each class and each batch element.  \n",
    "    def forward(self, X):\n",
    "        # X is a batch of images. It has shape (batch size, input dimension, sequence length)\n",
    "        # Extract the batch size and sequence length from the input\n",
    "        batch_size, _, sequence_length = X.shape\n",
    "\n",
    "        # Initialize the internal state of the LSTM cell and the output of the cell\n",
    "        c = torch.zeros(batch_size, self.n)\n",
    "        v = torch.zeros(batch_size, self.n)\n",
    "        \n",
    "        # Iterate through the input time-series, repeatedly passing it through the LSTM cell.\n",
    "        for t in range(sequence_length):\n",
    "            # Extract the input at the current time step\n",
    "            x = X[:,:,t]\n",
    "\n",
    "            # Pass the input and internal state through the LSTM cell\n",
    "            c, v = self.layers[\"LSTM cell\"](c, x, v)\n",
    "        # Pass the final output through the output layer and return the result. \n",
    "        # These will be the logits for each class.\n",
    "        return self.layers[\"output\"](v)\n"
   ]
  },
  {
   "cell_type": "markdown",
   "metadata": {},
   "source": [
    "## Training our network\n",
    "Now that we've designed the network architecture, we will train the network. This involves our standard steps in PyTorch:\n",
    "1. Define instances of the network, optimiser for that network, and loss function\n",
    "2. For each epoch, iterate through the dataset and perform the following steps:\n",
    "    1. Zero out gradients\n",
    "    2. Perform a forward pass\n",
    "    3. Compute the loss\n",
    "    4. Back-propagate \n",
    "    5. Take a step using the optimiser\n",
    "3. Test the performance of the network on the test dataset"
   ]
  },
  {
   "cell_type": "code",
   "execution_count": 11,
   "metadata": {},
   "outputs": [],
   "source": [
    "# Generate an instance of our LSTM network\n",
    "my_net = my_RNN(28, 100)"
   ]
  },
  {
   "cell_type": "code",
   "execution_count": 12,
   "metadata": {},
   "outputs": [],
   "source": [
    "# Define our optimizer\n",
    "optimizer = optim.Adam(my_net.parameters(), lr=0.001)\n",
    "# Define our loss function\n",
    "loss_fn = nn.CrossEntropyLoss()"
   ]
  },
  {
   "cell_type": "code",
   "execution_count": 13,
   "metadata": {},
   "outputs": [
    {
     "name": "stderr",
     "output_type": "stream",
     "text": [
      "100%|██████████| 1875/1875 [01:21<00:00, 22.93it/s]\n",
      "100%|██████████| 1875/1875 [01:20<00:00, 23.44it/s]\n",
      "100%|██████████| 1875/1875 [01:22<00:00, 22.67it/s]\n"
     ]
    }
   ],
   "source": [
    "# Initialise a list to store the training loss\n",
    "losses = []\n",
    "# Iterate through epochs\n",
    "for epoch in range(2):\n",
    "    # Iterate through the training data loader\n",
    "    for X, Y in tqdm.tqdm(train_dataloader):    \n",
    "        # Zero the gradients\n",
    "        optimizer.zero_grad()\n",
    "        # Pass the data through the network\n",
    "        logits = my_net(X)\n",
    "        # Calculate the loss\n",
    "        loss = loss_fn(logits, Y)\n",
    "        # Backpropagate\n",
    "        loss.backward()\n",
    "        # Update the weights\n",
    "        optimizer.step()\n",
    "        # Append the loss to the list\n",
    "        losses.append(loss.item())"
   ]
  },
  {
   "cell_type": "code",
   "execution_count": 18,
   "metadata": {},
   "outputs": [
    {
     "data": {
      "image/png": "[encoded data removed]",
      "text/plain": [
       "<Figure size 640x480 with 1 Axes>"
      ]
     },
     "metadata": {},
     "output_type": "display_data"
    }
   ],
   "source": [
    "# Plot the training loss\n",
    "plt.plot(losses)\n",
    "plt.xlim(0, len(losses))\n",
    "plt.xlabel(\"Training steps\", fontsize=14)\n",
    "plt.ylabel(\"Loss\", fontsize=14)\n",
    "plt.show()"
   ]
  },
  {
   "cell_type": "code",
   "execution_count": 20,
   "metadata": {},
   "outputs": [
    {
     "name": "stdout",
     "output_type": "stream",
     "text": [
      "Accuracy: 96.73%\n"
     ]
    }
   ],
   "source": [
    "# Calculate the accuracy on the test set\n",
    "correct = 0\n",
    "total = 0\n",
    "# Iterate through the test set\n",
    "for X, Y in test_dataloader:\n",
    "    # Pass the data through the network\n",
    "    logits = my_net(X)\n",
    "    # Get the predicted class\n",
    "    _, predicted = torch.max(logits.data, 1)\n",
    "    # Update the counters\n",
    "    total += Y.size(0)\n",
    "    correct += (predicted == Y).sum().item()\n",
    "\n",
    "# Print the accuracy\n",
    "print(\"Accuracy: {}%\".format(100*correct/total))"
   ]
  }
 ],
 "metadata": {
  "kernelspec": {
   "display_name": "comp_neuro",
   "language": "python",
   "name": "python3"
  },
  "language_info": {
   "codemirror_mode": {
    "name": "ipython",
    "version": 3
   },
   "file_extension": ".py",
   "mimetype": "text/x-python",
   "name": "python",
   "nbconvert_exporter": "python",
   "pygments_lexer": "ipython3",
   "version": "3.9.18"
  }
 },
 "nbformat": 4,
 "nbformat_minor": 2
}
