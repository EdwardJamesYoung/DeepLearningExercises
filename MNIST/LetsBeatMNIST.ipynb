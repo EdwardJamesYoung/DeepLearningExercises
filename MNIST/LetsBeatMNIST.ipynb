{
 "cells": [
  {
   "cell_type": "code",
   "execution_count": 1,
   "metadata": {},
   "outputs": [],
   "source": [
    "import numpy as np\n",
    "import torch\n",
    "import torch.nn as nn\n",
    "import torch.nn.functional as F\n",
    "import torch.optim as optim\n",
    "import torchvision as tv\n",
    "import matplotlib.pyplot as plt\n",
    "from tqdm import tqdm"
   ]
  },
  {
   "cell_type": "code",
   "execution_count": 198,
   "metadata": {},
   "outputs": [],
   "source": [
    "# Generate the transformations that we will apply to the images\n",
    "transform = tv.transforms.Compose([\n",
    "    tv.transforms.ToTensor()\n",
    "    # tv.transforms.RandomAffine(8, translate=(0.15, 0.15), scale=(0.9, 1.1), shear=0.1)\n",
    "])\n",
    "\n",
    "# Create a dataloader for the MNIST dateset\n",
    "train_dataset = tv.datasets.MNIST(root='./data', train=True, transform=transform, download=True)\n",
    "test_dataset = tv.datasets.MNIST(root='./data', train=False, transform=tv.transforms.ToTensor(), download=True)\n",
    "\n",
    "train_loader = torch.utils.data.DataLoader(dataset=train_dataset, batch_size=64, shuffle=True)\n",
    "test_loader = torch.utils.data.DataLoader(dataset=test_dataset, batch_size=10, shuffle=False)"
   ]
  },
  {
   "cell_type": "code",
   "execution_count": 199,
   "metadata": {},
   "outputs": [
    {
     "name": "stdout",
     "output_type": "stream",
     "text": [
      "torch.Size([28, 28])\n",
      "tensor(0)\n"
     ]
    },
    {
     "data": {
      "image/png": "[encoded data removed]",
      "text/plain": [
       "<Figure size 640x480 with 1 Axes>"
      ]
     },
     "metadata": {},
     "output_type": "display_data"
    }
   ],
   "source": [
    "for X, T in train_loader:\n",
    "    print(X[0, 0, :, :].shape)\n",
    "    print(T[0])\n",
    "    plt.imshow(X[0, 0, :, :].numpy(), cmap='gray')\n",
    "    break"
   ]
  },
  {
   "cell_type": "code",
   "execution_count": 220,
   "metadata": {},
   "outputs": [],
   "source": [
    "# Build a neural network model\n",
    "\n",
    "class Conv_Net(nn.Module):\n",
    "    def __init__(self):\n",
    "        super().__init__()\n",
    "        self.conv1 = nn.Conv2d(in_channels=1, out_channels=32, kernel_size=3)\n",
    "        self.conv2 = nn.Conv2d(in_channels=32, out_channels=16, kernel_size=3)\n",
    "        self.conv3 = nn.Conv2d(in_channels=16, out_channels=16, kernel_size=3)\n",
    "        self.fc = nn.Linear(in_features=16*5*5, out_features=10)\n",
    "\n",
    "    def forward(self, X):\n",
    "        X = self.conv1(X) # first convolutional layer\n",
    "        # print(X.shape)\n",
    "        X = F.relu(X) # activation function\n",
    "        # print(X.shape)\n",
    "        X = self.conv2(X) # second convolutional layer\n",
    "        # print(X.shape)\n",
    "        X = F.relu(X)\n",
    "        # print(X.shape)\n",
    "        X = F.max_pool2d(X, kernel_size=2, stride = 2)\n",
    "        # print(X.shape)\n",
    "        X = self.conv3(X)\n",
    "        # print(X.shape)\n",
    "        X = F.relu(X)\n",
    "        # print(X.shape)\n",
    "        X = F.max_pool2d(X, kernel_size=2, stride = 2) # max pooling layer\n",
    "        # print(X.shape)\n",
    "        X = X.reshape(-1, 16*5*5)\n",
    "        # print(X.shape)\n",
    "        X = self.fc(X)\n",
    "        # print(X.shape)\n",
    "        return X\n"
   ]
  },
  {
   "cell_type": "code",
   "execution_count": 221,
   "metadata": {},
   "outputs": [],
   "source": [
    "# Create an instantiation of the model\n",
    "model = Conv_Net()"
   ]
  },
  {
   "cell_type": "code",
   "execution_count": 222,
   "metadata": {},
   "outputs": [],
   "source": [
    "# Create an optimiser\n",
    "optimiser = optim.Adam(model.parameters(), lr=0.0005)\n",
    "\n",
    "# Create a loss function\n",
    "loss_function = nn.CrossEntropyLoss()"
   ]
  },
  {
   "cell_type": "code",
   "execution_count": 223,
   "metadata": {},
   "outputs": [],
   "source": [
    "def train_one_epoch(model, optimiser, loss_function, train_loader):\n",
    "    losses = []\n",
    "\n",
    "    for X, T in tqdm(train_loader):\n",
    "        optimiser.zero_grad()\n",
    "        logits = model(X)\n",
    "        loss = loss_function(logits, T)\n",
    "        loss.backward()\n",
    "        optimiser.step()\n",
    "\n",
    "        losses.append(loss.item())\n",
    "    \n",
    "    return losses "
   ]
  },
  {
   "cell_type": "code",
   "execution_count": 224,
   "metadata": {},
   "outputs": [],
   "source": [
    "def plot_loss(losses):\n",
    "    plt.plot(losses)\n",
    "    plt.xlim(0, len(losses))\n",
    "    plt.ylim(0, np.log(10))\n",
    "    plt.xlabel('Optimiser step')\n",
    "    plt.ylabel('Loss')"
   ]
  },
  {
   "cell_type": "code",
   "execution_count": 225,
   "metadata": {},
   "outputs": [],
   "source": [
    "def find_test_accuracy(model, test_loader):\n",
    "    correct = 0\n",
    "    total = 0\n",
    "\n",
    "    for X, T in tqdm(test_loader):\n",
    "        logits = model(X)\n",
    "        predictions = torch.argmax(logits, dim=1)\n",
    "        correct += torch.sum(T == predictions).item()\n",
    "        total += len(T)\n",
    "    \n",
    "    return correct / total"
   ]
  },
  {
   "cell_type": "code",
   "execution_count": 226,
   "metadata": {},
   "outputs": [],
   "source": [
    "def train_epochs(model, optimiser, loss_function, train_loader, test_loader, n_epochs):\n",
    "    losses = []\n",
    "    accuracy = []\n",
    "\n",
    "    for kk in range(n_epochs):\n",
    "        losses = losses + train_one_epoch(model, optimiser, loss_function, train_loader)\n",
    "        accuracy.append(find_test_accuracy(model, test_loader))\n",
    "        print('Test accuracy: ', accuracy[-1])\n",
    "    \n",
    "    return losses, accuracy\n"
   ]
  },
  {
   "cell_type": "code",
   "execution_count": 227,
   "metadata": {},
   "outputs": [
    {
     "name": "stderr",
     "output_type": "stream",
     "text": [
      "100%|██████████| 938/938 [01:01<00:00, 15.16it/s]\n",
      "100%|██████████| 1000/1000 [00:03<00:00, 268.09it/s]\n"
     ]
    },
    {
     "name": "stdout",
     "output_type": "stream",
     "text": [
      "Test accuracy:  0.95\n"
     ]
    },
    {
     "name": "stderr",
     "output_type": "stream",
     "text": [
      "100%|██████████| 938/938 [01:05<00:00, 14.27it/s]\n",
      "100%|██████████| 1000/1000 [00:03<00:00, 266.83it/s]\n"
     ]
    },
    {
     "name": "stdout",
     "output_type": "stream",
     "text": [
      "Test accuracy:  0.9648\n"
     ]
    },
    {
     "name": "stderr",
     "output_type": "stream",
     "text": [
      "100%|██████████| 938/938 [01:09<00:00, 13.48it/s]\n",
      "100%|██████████| 1000/1000 [00:04<00:00, 242.15it/s]\n"
     ]
    },
    {
     "name": "stdout",
     "output_type": "stream",
     "text": [
      "Test accuracy:  0.966\n"
     ]
    },
    {
     "name": "stderr",
     "output_type": "stream",
     "text": [
      "100%|██████████| 938/938 [01:10<00:00, 13.36it/s]\n",
      "100%|██████████| 1000/1000 [00:03<00:00, 260.94it/s]\n"
     ]
    },
    {
     "name": "stdout",
     "output_type": "stream",
     "text": [
      "Test accuracy:  0.9739\n"
     ]
    },
    {
     "name": "stderr",
     "output_type": "stream",
     "text": [
      "100%|██████████| 938/938 [01:05<00:00, 14.32it/s]\n",
      "100%|██████████| 1000/1000 [00:03<00:00, 254.11it/s]\n"
     ]
    },
    {
     "name": "stdout",
     "output_type": "stream",
     "text": [
      "Test accuracy:  0.9751\n"
     ]
    },
    {
     "name": "stderr",
     "output_type": "stream",
     "text": [
      "100%|██████████| 938/938 [01:06<00:00, 14.07it/s]\n",
      "100%|██████████| 1000/1000 [00:03<00:00, 271.41it/s]\n"
     ]
    },
    {
     "name": "stdout",
     "output_type": "stream",
     "text": [
      "Test accuracy:  0.9796\n"
     ]
    },
    {
     "name": "stderr",
     "output_type": "stream",
     "text": [
      "100%|██████████| 938/938 [01:12<00:00, 12.94it/s]\n",
      "100%|██████████| 1000/1000 [00:03<00:00, 252.48it/s]\n"
     ]
    },
    {
     "name": "stdout",
     "output_type": "stream",
     "text": [
      "Test accuracy:  0.9809\n"
     ]
    },
    {
     "name": "stderr",
     "output_type": "stream",
     "text": [
      "100%|██████████| 938/938 [01:11<00:00, 13.20it/s]\n",
      "100%|██████████| 1000/1000 [00:03<00:00, 265.00it/s]\n"
     ]
    },
    {
     "name": "stdout",
     "output_type": "stream",
     "text": [
      "Test accuracy:  0.9799\n"
     ]
    },
    {
     "name": "stderr",
     "output_type": "stream",
     "text": [
      "100%|██████████| 938/938 [01:09<00:00, 13.52it/s]\n",
      "100%|██████████| 1000/1000 [00:03<00:00, 269.96it/s]\n"
     ]
    },
    {
     "name": "stdout",
     "output_type": "stream",
     "text": [
      "Test accuracy:  0.984\n"
     ]
    },
    {
     "name": "stderr",
     "output_type": "stream",
     "text": [
      "100%|██████████| 938/938 [01:09<00:00, 13.51it/s]\n",
      "100%|██████████| 1000/1000 [00:04<00:00, 243.06it/s]\n"
     ]
    },
    {
     "name": "stdout",
     "output_type": "stream",
     "text": [
      "Test accuracy:  0.9794\n"
     ]
    },
    {
     "data": {
      "image/png": "[encoded data removed]",
      "text/plain": [
       "<Figure size 640x480 with 1 Axes>"
      ]
     },
     "metadata": {},
     "output_type": "display_data"
    }
   ],
   "source": [
    "# Training for 10 epochs takes around 12 minutes on a CPU.\n",
    "losses, accuracy = train_epochs(model, optimiser, loss_function, train_loader, test_loader, 10)\n",
    "\n",
    "plot_loss(losses)"
   ]
  },
  {
   "cell_type": "code",
   "execution_count": 228,
   "metadata": {},
   "outputs": [
    {
     "data": {
      "text/plain": [
       "Text(0, 0.5, 'Loss')"
      ]
     },
     "execution_count": 228,
     "metadata": {},
     "output_type": "execute_result"
    },
    {
     "data": {
      "image/png": "[encoded data removed]",
      "text/plain": [
       "<Figure size 640x480 with 1 Axes>"
      ]
     },
     "metadata": {},
     "output_type": "display_data"
    }
   ],
   "source": [
    "# Smooth the loss by applying a low pass filter\n",
    "def smooth_loss(losses, alpha=0.9):\n",
    "    smoothed_losses = [losses[0]]\n",
    "    for kk in range(1, len(losses)):\n",
    "        smoothed_losses.append(alpha * smoothed_losses[-1] + (1 - alpha) * losses[kk])\n",
    "    \n",
    "    return smoothed_losses\n",
    "\n",
    "smoothed_losses = smooth_loss(losses)\n",
    "plt.plot(smoothed_losses)\n",
    "plt.xlim(0, len(losses))\n",
    "plt.ylim(0, np.log(10))\n",
    "plt.xlabel('Optimiser step')\n",
    "plt.ylabel('Loss')\n"
   ]
  },
  {
   "cell_type": "code",
   "execution_count": null,
   "metadata": {},
   "outputs": [],
   "source": []
  }
 ],
 "metadata": {
  "kernelspec": {
   "display_name": "comp_neuro",
   "language": "python",
   "name": "python3"
  },
  "language_info": {
   "codemirror_mode": {
    "name": "ipython",
    "version": 3
   },
   "file_extension": ".py",
   "mimetype": "text/x-python",
   "name": "python",
   "nbconvert_exporter": "python",
   "pygments_lexer": "ipython3",
   "version": "3.9.18"
  }
 },
 "nbformat": 4,
 "nbformat_minor": 2
}
